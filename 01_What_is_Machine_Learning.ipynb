{
 "cells": [
  {
   "cell_type": "markdown",
   "id": "f09755c1",
   "metadata": {},
   "source": [
    "# What is Machine Learning?"
   ]
  },
  {
   "cell_type": "markdown",
   "id": "ac487c5d",
   "metadata": {},
   "source": [
    " <img src='https://scikit-learn.org/stable/_static/ml_map.png'>"
   ]
  },
  {
   "cell_type": "markdown",
   "id": "681cb1bd",
   "metadata": {},
   "source": [
    " <img src=\"./imgs/wiki_2.png\"/>"
   ]
  },
  {
   "cell_type": "markdown",
   "id": "552e3e0e",
   "metadata": {},
   "source": [
    "[Machine Learning as per Wikipedia](https://en.wikipedia.org/wiki/Machine_learning)"
   ]
  },
  {
   "cell_type": "markdown",
   "id": "87acdd98",
   "metadata": {},
   "source": [
    "[it's all around us](https://www.nytimes.com/search?query=ai)"
   ]
  },
  {
   "cell_type": "markdown",
   "id": "d346a235",
   "metadata": {},
   "source": [
    "A bit about optimization and discovering the ultimate trade-off between : \n",
    "    \n",
    "    * Exhibit Exemplary Grit   \n",
    "    * “Insanity is doing the same thing over and over and expecting different results.”    \n",
    "\n",
    "    * Be endlessly curious.  Try all the things   \n",
    "    * MVP approach: (just make sure you Deliver by the deadline !)  "
   ]
  },
  {
   "cell_type": "markdown",
   "id": "4631772f",
   "metadata": {},
   "source": [
    "### Quick Overview \n",
    "\n",
    "Regression modeling:  - 60 min    \n",
    "EventX Q&A            - 10  min\n",
    "\n",
    "\n",
    "Classification modeling: - 60  min  \n",
    "EventX Q&A                - 10 min\n",
    "\n",
    "\n",
    "NLP & Topic Modeling    - 20 min  \n",
    "EventX Q&A               - 5 min\n",
    "\n",
    "Total \t\t         - 2 hrs 45 mins"
   ]
  },
  {
   "cell_type": "code",
   "execution_count": null,
   "id": "e37f945c",
   "metadata": {},
   "outputs": [],
   "source": []
  }
 ],
 "metadata": {
  "kernelspec": {
   "display_name": "ml",
   "language": "python",
   "name": "ml"
  },
  "language_info": {
   "codemirror_mode": {
    "name": "ipython",
    "version": 3
   },
   "file_extension": ".py",
   "mimetype": "text/x-python",
   "name": "python",
   "nbconvert_exporter": "python",
   "pygments_lexer": "ipython3",
   "version": "3.9.12"
  }
 },
 "nbformat": 4,
 "nbformat_minor": 5
}
